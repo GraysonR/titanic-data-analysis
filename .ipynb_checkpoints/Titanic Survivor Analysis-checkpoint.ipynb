{
 "cells": [
  {
   "cell_type": "markdown",
   "metadata": {},
   "source": [
    "# Titanic Survivor Analysis\n",
    "\n",
    "###### Grayson Ricketts\n",
    "\n",
    "## Question\n",
    "#### How did gender affect the chance of surviving the Titanic disaster? Also, how did gender in addition to other factors affect the chance of surviving?"
   ]
  },
  {
   "cell_type": "markdown",
   "metadata": {},
   "source": [
    "## Setup\n"
   ]
  },
  {
   "cell_type": "code",
   "execution_count": 2,
   "metadata": {
    "collapsed": true
   },
   "outputs": [],
   "source": [
    "%matplotlib inline"
   ]
  },
  {
   "cell_type": "code",
   "execution_count": 33,
   "metadata": {
    "collapsed": false
   },
   "outputs": [],
   "source": [
    "# Import magic\n",
    "%matplotlib inline\n",
    "\n",
    "import matplotlib.pyplot as plt\n",
    "import numpy as np\n",
    "import pandas as pd\n",
    "import seaborn as sns\n",
    "\n",
    "#Set general plot properties\n",
    "sns.set_style(\"white\")"
   ]
  },
  {
   "cell_type": "code",
   "execution_count": 4,
   "metadata": {
    "collapsed": true
   },
   "outputs": [],
   "source": [
    "# Load CSV data\n",
    "titanic_data = pd.read_csv('titanic_data.csv')"
   ]
  },
  {
   "cell_type": "markdown",
   "metadata": {},
   "source": [
    "## Wrangling"
   ]
  },
  {
   "cell_type": "code",
   "execution_count": 5,
   "metadata": {
    "collapsed": false
   },
   "outputs": [
    {
     "name": "stdout",
     "output_type": "stream",
     "text": [
      "    Gender : 891\n",
      "    Age : 714\n",
      "    Total : 891\n"
     ]
    }
   ],
   "source": [
    "# Display the number of rows with gender and age data\n",
    "print '''    Gender : %d\n",
    "    Age : %d\n",
    "    Total : %d''' % (titanic_data[pd.notnull(titanic_data['Sex']) == True].shape[0], \n",
    "                     titanic_data[pd.notnull(titanic_data['Age']) == True].shape[0], \n",
    "                     titanic_data.shape[0])"
   ]
  },
  {
   "cell_type": "markdown",
   "metadata": {},
   "source": [
    "There are about 180 rows with no age data. Later on, when we want to make comparisions based on age this will become problematic. We will create a new dataframe to hold the rows that have age data."
   ]
  },
  {
   "cell_type": "code",
   "execution_count": 32,
   "metadata": {
    "collapsed": false
   },
   "outputs": [],
   "source": [
    "# New dataframe\n",
    "age_data = titanic_data[pd.notnull(titanic_data['Age'])]\n",
    "\n",
    "# Round the ages to integers\n",
    "age_data.loc[:, 'Age'] = age_data['Age'].apply(lambda x : int(x))\n",
    "\n",
    "# Group age_data by gender\n",
    "m_age_data = age_data[age_data['Sex'] == 'male']\n",
    "f_age_data = age_data[age_data['Sex'] == 'female']"
   ]
  },
  {
   "cell_type": "markdown",
   "metadata": {},
   "source": [
    "Later on, we will want to see how pclass relates to survival. This method groups people into classes."
   ]
  },
  {
   "cell_type": "code",
   "execution_count": 7,
   "metadata": {
    "collapsed": true
   },
   "outputs": [],
   "source": [
    "'''\n",
    "Return a tuple containing three groups. Each group will be the members of a pclass.\n",
    "'''\n",
    "def group_by_class(df):\n",
    "    df_first = df[df['Pclass'] == 1]\n",
    "    df_second = df[df['Pclass'] == 2]\n",
    "    df_third = df[df['Pclass'] == 3]\n",
    "    \n",
    "    return (df_first, df_second, df_third)"
   ]
  },
  {
   "cell_type": "markdown",
   "metadata": {},
   "source": [
    "We want to see what factors affect the chance of surviving, so this method splits a dataframe into two dataframes. The first will hold those who survived the second will hold those who did not survive."
   ]
  },
  {
   "cell_type": "code",
   "execution_count": 8,
   "metadata": {
    "collapsed": true
   },
   "outputs": [],
   "source": [
    "'''\n",
    "Return a tuple containing two collections. The first containing those who survived\n",
    "and the second containing those who died.\n",
    "'''\n",
    "def group_by_survived(df):\n",
    "    survived = df[df['Survived'] == 1]\n",
    "    died = df[df['Survived'] == 0]\n",
    "    \n",
    "    return (survived, died)"
   ]
  },
  {
   "cell_type": "markdown",
   "metadata": {},
   "source": [
    "## Evaluation and Exploration"
   ]
  },
  {
   "cell_type": "markdown",
   "metadata": {},
   "source": [
    "Let's begin by looking at some general distributions."
   ]
  },
  {
   "cell_type": "code",
   "execution_count": 34,
   "metadata": {
    "collapsed": false
   },
   "outputs": [
    {
     "data": {
      "image/png": "[encoded data removed]",
      "text/plain": [
       "<matplotlib.figure.Figure at 0x10c06c510>"
      ]
     },
     "metadata": {},
     "output_type": "display_data"
    }
   ],
   "source": [
    "plt1 = sns.distplot(age_data['Age'], kde=False, bins=20)\n",
    "\n",
    "# Set the size\n",
    "plt1.figure.set_size_inches(12, 7)"
   ]
  },
  {
   "cell_type": "code",
   "execution_count": 46,
   "metadata": {
    "collapsed": false
   },
   "outputs": [
    {
     "name": "stdout",
     "output_type": "stream",
     "text": [
      "Number of people in 1 class: 216\n",
      "Number of people in 2 class: 184\n",
      "Number of people in 3 class: 491\n",
      "\n",
      "Proportion of people in third class: 49.72%\n",
      "\n",
      "Number of females: 314\n",
      "Number of males: 577\n"
     ]
    }
   ],
   "source": [
    "x = 1\n",
    "for group in group_by_class(titanic_data):\n",
    "    print 'Number of people in %s class: %d' % (x, group.shape[0])\n",
    "    x += 1\n",
    "    \n",
    "print '\\nProportion of people in third class: %.2f%%\\n' % (float(group_by_class(age_data)[2].shape[0]*100) /\n",
    "                                                       age_data.shape[0])\n",
    "\n",
    "print 'Number of females: %d' % titanic_data[titanic_data['Sex'] == 'female'].shape[0]\n",
    "print 'Number of males: %d' % titanic_data[titanic_data['Sex'] == 'male'].shape[0]"
   ]
  },
  {
   "cell_type": "markdown",
   "metadata": {
    "collapsed": true
   },
   "source": [
    "Now we will begin to answer our question of how gender affects survival by looking at some basic statistics about each gender group."
   ]
  },
  {
   "cell_type": "code",
   "execution_count": 9,
   "metadata": {
    "collapsed": true
   },
   "outputs": [],
   "source": [
    "gender_grouped = titanic_data.groupby('Sex')"
   ]
  },
  {
   "cell_type": "code",
   "execution_count": 45,
   "metadata": {
    "collapsed": false
   },
   "outputs": [
    {
     "data": {
      "text/html": [
       "<div>\n",
       "<table border=\"1\" class=\"dataframe\">\n",
       "  <thead>\n",
       "    <tr style=\"text-align: right;\">\n",
       "      <th></th>\n",
       "      <th>Pclass</th>\n",
       "      <th>Age</th>\n",
       "      <th>SibSp</th>\n",
       "      <th>Parch</th>\n",
       "      <th>Fare</th>\n",
       "    </tr>\n",
       "  </thead>\n",
       "  <tbody>\n",
       "    <tr>\n",
       "      <th>count</th>\n",
       "      <td>263.000000</td>\n",
       "      <td>192.000000</td>\n",
       "      <td>263.000000</td>\n",
       "      <td>263.000000</td>\n",
       "      <td>263.000000</td>\n",
       "    </tr>\n",
       "    <tr>\n",
       "      <th>mean</th>\n",
       "      <td>0.230712</td>\n",
       "      <td>2.810936</td>\n",
       "      <td>-0.264458</td>\n",
       "      <td>-0.413980</td>\n",
       "      <td>-18.955924</td>\n",
       "    </tr>\n",
       "    <tr>\n",
       "      <th>std</th>\n",
       "      <td>-0.043710</td>\n",
       "      <td>0.568054</td>\n",
       "      <td>-0.094709</td>\n",
       "      <td>-0.410552</td>\n",
       "      <td>-14.859435</td>\n",
       "    </tr>\n",
       "    <tr>\n",
       "      <th>min</th>\n",
       "      <td>0.000000</td>\n",
       "      <td>-0.330000</td>\n",
       "      <td>0.000000</td>\n",
       "      <td>0.000000</td>\n",
       "      <td>-6.750000</td>\n",
       "    </tr>\n",
       "    <tr>\n",
       "      <th>25%</th>\n",
       "      <td>1.000000</td>\n",
       "      <td>3.000000</td>\n",
       "      <td>0.000000</td>\n",
       "      <td>0.000000</td>\n",
       "      <td>-4.176075</td>\n",
       "    </tr>\n",
       "    <tr>\n",
       "      <th>50%</th>\n",
       "      <td>1.000000</td>\n",
       "      <td>2.000000</td>\n",
       "      <td>0.000000</td>\n",
       "      <td>0.000000</td>\n",
       "      <td>-12.500000</td>\n",
       "    </tr>\n",
       "    <tr>\n",
       "      <th>75%</th>\n",
       "      <td>0.000000</td>\n",
       "      <td>2.000000</td>\n",
       "      <td>-1.000000</td>\n",
       "      <td>-1.000000</td>\n",
       "      <td>-28.450000</td>\n",
       "    </tr>\n",
       "    <tr>\n",
       "      <th>max</th>\n",
       "      <td>0.000000</td>\n",
       "      <td>17.000000</td>\n",
       "      <td>0.000000</td>\n",
       "      <td>-1.000000</td>\n",
       "      <td>0.000000</td>\n",
       "    </tr>\n",
       "  </tbody>\n",
       "</table>\n",
       "</div>"
      ],
      "text/plain": [
       "           Pclass         Age       SibSp       Parch        Fare\n",
       "count  263.000000  192.000000  263.000000  263.000000  263.000000\n",
       "mean     0.230712    2.810936   -0.264458   -0.413980  -18.955924\n",
       "std     -0.043710    0.568054   -0.094709   -0.410552  -14.859435\n",
       "min      0.000000   -0.330000    0.000000    0.000000   -6.750000\n",
       "25%      1.000000    3.000000    0.000000    0.000000   -4.176075\n",
       "50%      1.000000    2.000000    0.000000    0.000000  -12.500000\n",
       "75%      0.000000    2.000000   -1.000000   -1.000000  -28.450000\n",
       "max      0.000000   17.000000    0.000000   -1.000000    0.000000"
      ]
     },
     "execution_count": 45,
     "metadata": {},
     "output_type": "execute_result"
    }
   ],
   "source": [
    "# Difference between men and women\n",
    "gender_grouped.get_group('male')[['Pclass', 'Age', 'SibSp', 'Parch', 'Fare']].describe() - \\\n",
    "        gender_grouped.get_group('female')[['Pclass', 'Age', 'SibSp', 'Parch', 'Fare']].describe()"
   ]
  },
  {
   "cell_type": "markdown",
   "metadata": {},
   "source": [
    "Most of these distributuion statistics seem very similiar with the exception of Fare. It would seem logical that Fare and Pclass are connected, but for some reason the Pclass statistics are similiar."
   ]
  },
  {
   "cell_type": "code",
   "execution_count": 31,
   "metadata": {
    "collapsed": false
   },
   "outputs": [
    {
     "data": {
      "image/png": "[encoded data removed]",
      "text/plain": [
       "<matplotlib.figure.Figure at 0x10c4b3310>"
      ]
     },
     "metadata": {},
     "output_type": "display_data"
    }
   ],
   "source": [
    "# Group men and women by class\n",
    "male_class = group_by_class(gender_grouped.get_group('male'))\n",
    "female_class = group_by_class(gender_grouped.get_group('female'))\n",
    "\n",
    "# Setup for side-by-side figures\n",
    "fig, (ax1, ax2) = plt.subplots(ncols=2, sharey=True)\n",
    "\n",
    "# Show the how many women (men) were in first, second, or third class\n",
    "plt1 = sns.barplot(x=['First', 'Second', 'Third'], y=[female_class[0].shape[0], \n",
    "                                               female_class[1].shape[0], female_class[2].shape[0]], \n",
    "                                            ax=ax1)\n",
    "plt2 = sns.barplot(x=['First', 'Second', 'Third'], y=[male_class[0].shape[0], \n",
    "                                               male_class[1].shape[0], male_class[2].shape[0]], \n",
    "                                            ax=ax2)\n",
    "\n",
    "# Set the title for the barplots and the size\n",
    "plt1.set(title='Women')\n",
    "plt2.set(title='Men')\n",
    "plt1.figure.set_size_inches(12, 7)"
   ]
  },
  {
   "cell_type": "markdown",
   "metadata": {},
   "source": [
    "It appears that the difference in the Fare statistics is because there are many more males in third class, so the mean fare for females was much higher because there was a smaller proportion of females in third class. \n",
    "\n",
    "Now that the general differences between males and females have been explored, let's look at how gender affects the chance of surviving. We'll start by just looking at how many died and survived from each group."
   ]
  },
  {
   "cell_type": "code",
   "execution_count": 12,
   "metadata": {
    "collapsed": false
   },
   "outputs": [
    {
     "data": {
      "image/png": "[encoded data removed]",
      "text/plain": [
       "<matplotlib.figure.Figure at 0x108e19110>"
      ]
     },
     "metadata": {},
     "output_type": "display_data"
    }
   ],
   "source": [
    "# Get the number of men who survived and died\n",
    "m_survived = group_by_survived(gender_grouped.get_group('male'))[0].shape[0]\n",
    "m_died = group_by_survived(gender_grouped.get_group('male'))[1].shape[0]\n",
    "\n",
    "# Get the number of women who survived and died\n",
    "f_survived = group_by_survived(gender_grouped.get_group('female'))[0].shape[0]\n",
    "f_died = group_by_survived(gender_grouped.get_group('female'))[1].shape[0]\n",
    "\n",
    "# Set up the plots\n",
    "fig, (ax1, ax2) = plt.subplots(ncols=2, sharey=True)\n",
    "\n",
    "# Makes barplots showing the number who died and survived for each group\n",
    "plt1 = sns.barplot(x=['Survived', 'Died'], y=[f_survived, f_died], ax=ax2)\n",
    "plt2 = sns.barplot(x=['Survived', 'Died'], y=[m_survived, m_died], ax=ax1)\n",
    "\n",
    "# Set the title for the barplots and the size\n",
    "plt1.set(title='Women')\n",
    "plt2.set(title='Men')\n",
    "plt1.figure.set_size_inches(12, 7)"
   ]
  },
  {
   "cell_type": "code",
   "execution_count": 30,
   "metadata": {
    "collapsed": false
   },
   "outputs": [
    {
     "name": "stdout",
     "output_type": "stream",
     "text": [
      "Number of males who survived: 109\n",
      "Proportion of males who survived: 18.89%\n",
      "\n",
      "Number of females who survived: 233\n",
      "Proportion of females who survived: 74.20%\n"
     ]
    }
   ],
   "source": [
    "print \"Number of males who survived: %d\" % (m_survived)\n",
    "print \"Proportion of males who survived: %.2f%%\\n\" % ((float(m_survived * 100) / (m_died+m_survived)))\n",
    "\n",
    "print \"Number of females who survived: %d\" % (f_survived)\n",
    "print \"Proportion of females who survived: %.2f%%\" % ((float(f_survived * 100) / (f_died+f_survived)))"
   ]
  },
  {
   "cell_type": "markdown",
   "metadata": {},
   "source": [
    "A larger **proportion** and **number** of women survived the disaster than men. It appears that gender is correlated to surviving the disaster. For men the correlation is negative and women the correlation is positive. \n",
    "\n",
    "Now that we've explored how gender alone affects surviving the disaster, let's look deeper. Specifically let's answer the question, how do other factors in addition to gender affect the chance of surviving? Let's first look at how **gender** and **age** affect the chance of surviving."
   ]
  },
  {
   "cell_type": "code",
   "execution_count": 16,
   "metadata": {
    "collapsed": false
   },
   "outputs": [
    {
     "data": {
      "image/png": "[encoded data removed]",
      "text/plain": [
       "<matplotlib.figure.Figure at 0x108e92750>"
      ]
     },
     "metadata": {},
     "output_type": "display_data"
    }
   ],
   "source": [
    "# Seperate the women with age data who survived into two groups\n",
    "f_age_survived_groups = group_by_survived(f_age_data)\n",
    "\n",
    "# Seperate the men with age data who survived into two groups\n",
    "m_age_survived_groups = group_by_survived(m_age_data)\n",
    "\n",
    "# Figure setup\n",
    "fig, (ax1, ax2) = plt.subplots(ncols=2, sharey=True)\n",
    "\n",
    "# Histogram showing the number of people who died (survived) at a certain age in red (blue) for women\n",
    "sns.distplot(f_age_survived_groups[0]['Age'], kde=False, ax=ax1, bins=20, label='Survived')\n",
    "plt1 = sns.distplot(f_age_survived_groups[1]['Age'], kde=False, ax=ax1, bins=20, color='r', label='Died')\n",
    "\n",
    "# Histogram showing the number of people who died (survived) at a certain age in red (blue) for men\n",
    "sns.distplot(m_age_survived_groups[0]['Age'], kde=False, ax=ax2, bins=20, label='Survived')\n",
    "plt2 = sns.distplot(m_age_survived_groups[1]['Age'], kde=False, ax=ax2, bins=20, color='r', label='Died')\n",
    "\n",
    "# Set titles and size of graphs\n",
    "plt1.set(title='Women')\n",
    "plt2.set(title='Men')\n",
    "plt1.legend(loc='upper right')\n",
    "plt2.legend(loc='upper right')\n",
    "plt1.figure.set_size_inches(12, 7)"
   ]
  },
  {
   "cell_type": "markdown",
   "metadata": {},
   "source": [
    "From this it appears that women of all ages had a fairly good chance of surviving and that male children had a better chance of surviving than adult males. Unexpectedely, female children seemed to have a lower chance of surviving than older women.\n",
    "\n",
    "There seems to be another factor involved. Let's examine how pclass affected survival."
   ]
  },
  {
   "cell_type": "code",
   "execution_count": 17,
   "metadata": {
    "collapsed": false
   },
   "outputs": [],
   "source": [
    "# Females grouped by those who survived (died) and their pclass. Each variable\n",
    "# is a tuple with each element representing a group who all share the same pclass.\n",
    "f_class_age_survived = group_by_class(f_age_survived_groups[0])\n",
    "f_class_age_died = group_by_class(f_age_survived_groups[1])\n",
    "\n",
    "# Males grouped by those who survived (died) and their pclass. Each variable\n",
    "# is a tuple with each element representing a group who all share the same pclass.\n",
    "m_class_age_survived = group_by_class(m_age_survived_groups[0])\n",
    "m_class_age_died = group_by_class(m_age_survived_groups[1])"
   ]
  },
  {
   "cell_type": "code",
   "execution_count": 19,
   "metadata": {
    "collapsed": false
   },
   "outputs": [
    {
     "data": {
      "image/png": "[encoded data removed]",
      "text/plain": [
       "<matplotlib.figure.Figure at 0x10b139290>"
      ]
     },
     "metadata": {},
     "output_type": "display_data"
    },
    {
     "data": {
      "image/png": "[encoded data removed]",
      "text/plain": [
       "<matplotlib.figure.Figure at 0x10a2387d0>"
      ]
     },
     "metadata": {},
     "output_type": "display_data"
    }
   ],
   "source": [
    "# Plot setup for females\n",
    "fig, (ax1, ax2, ax3) = plt.subplots(ncols=3, sharey=True)\n",
    "\n",
    "# Plots for females\n",
    "sns.distplot(f_class_age_survived[0]['Age'], kde=False, bins=20, ax=ax1, label='Survived')\n",
    "fig1 = sns.distplot(f_class_age_died[0]['Age'], kde=False, color='r', bins=20, ax=ax1, label='Died')\n",
    "sns.distplot(f_class_age_survived[1]['Age'], kde=False, bins=20, ax=ax2)\n",
    "fig2 = sns.distplot(f_class_age_died[1]['Age'], kde=False, color='r', bins=20, ax=ax2)\n",
    "sns.distplot(f_class_age_survived[2]['Age'], kde=False, bins=20, ax=ax3)\n",
    "fig3 = sns.distplot(f_class_age_died[2]['Age'], kde=False, color='r', bins=20, ax=ax3)\n",
    "\n",
    "# Titles\n",
    "fig1.set(title='First Class')\n",
    "fig1.legend(loc='upper right')\n",
    "fig2.set(title='Second Class')\n",
    "fig3.set(title='Third Class')\n",
    "fig1.figure.set_size_inches(12,5)\n",
    "\n",
    "# Plot setup for males\n",
    "fig, (ax1, ax2, ax3) = plt.subplots(ncols=3, sharey=True)\n",
    "\n",
    "# Plots for males\n",
    "sns.distplot(m_class_age_survived[0]['Age'], kde=False, bins=20, ax=ax1, label='Survived')\n",
    "fig1 = sns.distplot(m_class_age_died[0]['Age'], kde=False, color='r', bins=20, ax=ax1, label='Died')\n",
    "sns.distplot(m_class_age_survived[1]['Age'], kde=False, bins=20, ax=ax2)\n",
    "fig2 = sns.distplot(m_class_age_died[1]['Age'], kde=False, color='r', bins=20, ax=ax2)\n",
    "sns.distplot(m_class_age_survived[2]['Age'], kde=False, bins=20, ax=ax3)\n",
    "fig3 = sns.distplot(m_class_age_died[2]['Age'], kde=False, color='r', bins=20, ax=ax3)\n",
    "\n",
    "# Titles\n",
    "fig1.set(title='First Class')\n",
    "fig1.legend(loc='upper right')\n",
    "fig2.set(title='Second Class')\n",
    "fig3.set(title='Third Class')\n",
    "fig1.figure.set_size_inches(12,5)"
   ]
  },
  {
   "cell_type": "markdown",
   "metadata": {},
   "source": [
    "It appears that there is a correlation between pclass and surviving the disaster in addition to gender. Specifically, the lower pclasses, especially third class, seem to have a much lower chance of surviving. However, children seemed to have a higher chance of surviving within any pclass.\n",
    "\n",
    "For instance, all male children in first and second class surived. Male children in third class did not have as high a chance of surviving, but it appears that a much greater proportion of male children in third class survived then adult males in third class. What is said about male children can also be said about female children with the exception of one child in first class."
   ]
  },
  {
   "cell_type": "markdown",
   "metadata": {},
   "source": [
    "## Conclusion"
   ]
  },
  {
   "cell_type": "markdown",
   "metadata": {
    "collapsed": true
   },
   "source": [
    "Within the sample given women had a much better chance of surviving the Titanic disaster. However, there were other factors in addition to gender (age, pclass) that affected the chance of surivival. Below is more detailed list of how these factors affected survival\n",
    "\n",
    "* Age\n",
    "    * Male children in first and second class all survived.\n",
    "    * Male children in third class had a better chance of surviving than their adult male counterparts\n",
    "    * Nearly all female children in first and second class survived\n",
    "* Pclass\n",
    "    * A greater proportion of males in second and third class died than males in first class\n",
    "    * A very low proportion of females in first and second class died\n",
    "    \n",
    "Overall, the findings are interesting but the findings are only about a sample of 891 people out of roughly 2,200 people that were in the disaster. In addition, all the conclusions from the age data represent only 714 people, about one-third the total population. To make definitive conlcusions about what affected survival we must calculate statistical power or (because it is feasible) look at the entire population."
   ]
  }
 ],
 "metadata": {
  "kernelspec": {
   "display_name": "Python 2",
   "language": "python",
   "name": "python2"
  },
  "language_info": {
   "codemirror_mode": {
    "name": "ipython",
    "version": 2
   },
   "file_extension": ".py",
   "mimetype": "text/x-python",
   "name": "python",
   "nbconvert_exporter": "python",
   "pygments_lexer": "ipython2",
   "version": "2.7.10"
  }
 },
 "nbformat": 4,
 "nbformat_minor": 0
}
