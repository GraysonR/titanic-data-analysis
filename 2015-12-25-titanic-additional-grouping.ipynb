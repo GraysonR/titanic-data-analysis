{
 "cells": [
  {
   "cell_type": "markdown",
   "metadata": {},
   "source": [
    "# Exploring Titanic Dataset\n",
    "\n",
    "### Goals:\n",
    "* Make age distributions better/easier to work with for density plots\n",
    "\n",
    "### Questions:\n",
    "* How can density plots be used to show some factors of surviving?"
   ]
  },
  {
   "cell_type": "code",
   "execution_count": 54,
   "metadata": {
    "collapsed": false
   },
   "outputs": [],
   "source": [
    "# Import magic\n",
    "%matplotlib inline\n",
    "\n",
    "# More imports\n",
    "import matplotlib.pyplot as plt\n",
    "import numpy as np\n",
    "import pandas as pd\n",
    "import seaborn as sns\n",
    "\n",
    "#Set general plot properties\n",
    "sns.set_style(\"white\")"
   ]
  },
  {
   "cell_type": "code",
   "execution_count": 2,
   "metadata": {
    "collapsed": true
   },
   "outputs": [],
   "source": [
    "# Load and show CSV data\n",
    "titanic_data = pd.read_csv('titanic_data.csv')"
   ]
  },
  {
   "cell_type": "code",
   "execution_count": 99,
   "metadata": {
    "collapsed": false
   },
   "outputs": [],
   "source": [
    "# Get non-null ages\n",
    "titanic_data = titanic_data[pd.notnull(titanic_data['Age'])]\n",
    "\n",
    "# Round age to integer\n",
    "titanic_data.loc[:, 'Age'] = titanic_data['Age'].apply(lambda x : int(x))\n",
    "\n",
    "grouped = titanic_data.groupby('Sex')\n",
    "\n",
    "# Female grouped\n",
    "f_grouped = grouped.get_group('female')\n",
    "f_first = f_grouped[f_grouped['Pclass'] == 1]\n",
    "f_second = f_grouped[f_grouped['Pclass'] == 2]\n",
    "f_third = f_grouped[f_grouped['Pclass'] == 3]\n",
    "\n",
    "# Male grouped\n",
    "m_grouped = grouped.get_group('male')\n",
    "m_first = m_grouped[m_grouped['Pclass'] == 1]\n",
    "m_second = m_grouped[m_grouped['Pclass'] == 2]\n",
    "m_third = m_grouped[m_grouped['Pclass'] == 3]"
   ]
  },
  {
   "cell_type": "code",
   "execution_count": 100,
   "metadata": {
    "collapsed": false
   },
   "outputs": [
    {
     "data": {
      "text/plain": [
       "<matplotlib.axes._subplots.AxesSubplot at 0x10d277150>"
      ]
     },
     "execution_count": 100,
     "metadata": {},
     "output_type": "execute_result"
    },
    {
     "data": {
      "image/png": "[encoded data removed]",
      "text/plain": [
       "<matplotlib.figure.Figure at 0x10bd27a50>"
      ]
     },
     "metadata": {},
     "output_type": "display_data"
    }
   ],
   "source": [
    "fig, (ax1, ax2, ax3) = plt.subplots(ncols=3, sharey=True)\n",
    "\n",
    "sns.distplot(f[f['Survived'] == 1]['Age'], kde=False, bins=20, ax=ax1)\n",
    "sns.distplot(f[f['Survived'] != 1]['Age'], kde=False, color='r', bins=20, ax=ax1)\n",
    "\n",
    "sns.distplot(s[s['Survived'] == 1]['Age'], kde=False, bins=20, ax=ax2)\n",
    "sns.distplot(s[s['Survived'] != 1]['Age'], kde=False, color='r', bins=20, ax=ax2)\n",
    "\n",
    "sns.distplot(t[t['Survived'] == 1]['Age'], kde=False, bins=20, ax=ax3)\n",
    "sns.distplot(t[t['Survived'] != 1]['Age'], kde=False, color='r', bins=20, ax=ax3)"
   ]
  },
  {
   "cell_type": "code",
   "execution_count": 101,
   "metadata": {
    "collapsed": false
   },
   "outputs": [
    {
     "data": {
      "text/plain": [
       "<matplotlib.axes._subplots.AxesSubplot at 0x10db2b090>"
      ]
     },
     "execution_count": 101,
     "metadata": {},
     "output_type": "execute_result"
    },
    {
     "data": {
      "image/png": "[encoded data removed]",
      "text/plain": [
       "<matplotlib.figure.Figure at 0x10d420f50>"
      ]
     },
     "metadata": {},
     "output_type": "display_data"
    }
   ],
   "source": [
    "fig, (ax1, ax2, ax3) = plt.subplots(ncols=3, sharey=True)\n",
    "\n",
    "sns.distplot(m_first[m_first['Survived'] == 1]['Age'], kde=False, bins=20, ax=ax1)\n",
    "sns.distplot(m_first[m_first['Survived'] != 1]['Age'], kde=False, color='r', bins=20, ax=ax1)\n",
    "\n",
    "sns.distplot(m_second[m_second['Survived'] == 1]['Age'], kde=False, bins=20, ax=ax2)\n",
    "sns.distplot(m_second[m_second['Survived'] != 1]['Age'], kde=False, color='r', bins=20, ax=ax2)\n",
    "\n",
    "sns.distplot(m_third[m_third['Survived'] == 1]['Age'], kde=False, bins=20, ax=ax3)\n",
    "sns.distplot(m_third[m_third['Survived'] != 1]['Age'], kde=False, color='r', bins=20, ax=ax3)"
   ]
  },
  {
   "cell_type": "code",
   "execution_count": null,
   "metadata": {
    "collapsed": true
   },
   "outputs": [],
   "source": []
  }
 ],
 "metadata": {
  "kernelspec": {
   "display_name": "Python 2",
   "language": "python",
   "name": "python2"
  },
  "language_info": {
   "codemirror_mode": {
    "name": "ipython",
    "version": 2
   },
   "file_extension": ".py",
   "mimetype": "text/x-python",
   "name": "python",
   "nbconvert_exporter": "python",
   "pygments_lexer": "ipython2",
   "version": "2.7.10"
  }
 },
 "nbformat": 4,
 "nbformat_minor": 0
}
